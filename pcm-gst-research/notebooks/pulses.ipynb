{
 "cells": [
  {
   "cell_type": "markdown",
   "metadata": {},
   "source": [
    "# PCM Pulse Simulations\n",
    "\n",
    "This notebook demonstrates RESET and SET pulse operations for Phase Change Memory devices."
   ]
  },
  {
   "cell_type": "code",
   "execution_count": null,
   "metadata": {},
   "outputs": [],
   "source": [
    "import numpy as np\n",
    "import pandas as pd\n",
    "import matplotlib.pyplot as plt\n",
    "import sys\n",
    "import os\n",
    "sys.path.append('..')\n",
    "\n",
    "from pcm.device import PCMDevice\n",
    "from pcm.utils import save_figure, save_dataframe, plot_pulse_results\n",
    "\n",
    "# Create output directories\n",
    "os.makedirs(\"../data\", exist_ok=True)\n",
    "os.makedirs(\"../reports/figures\", exist_ok=True)\n",
    "\n",
    "print(\"PCM Pulse Simulation Notebook\")\n",
    "print(\"=\" * 40)"
   ]
  }
 ],
 "metadata": {
  "kernelspec": {
   "display_name": "Python 3",
   "language": "python",
   "name": "python3"
  }
 },
 "nbformat": 4,
 "nbformat_minor": 4
}
