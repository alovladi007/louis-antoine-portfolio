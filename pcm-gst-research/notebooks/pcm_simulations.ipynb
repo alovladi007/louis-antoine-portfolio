## 1. JMAK Crystallization Kinetics

First, let's explore the temperature-dependent crystallization behavior of GST using the Johnson-Mehl-Avrami-Kolmogorov (JMAK) model.# Import required libraries
import sys
import os
sys.path.append('..')

import numpy as np
import pandas as pd
import matplotlib.pyplot as plt
import seaborn as sns
from datetime import datetime

# Import PCM modules
from pcm.kinetics import JMAKModel
from pcm.device import PCMDevice
from pcm.iv import ThresholdSwitching
from pcm.reliability import Reliability
from pcm.utils import (
    save_figure, save_dataframe, plot_pulse_results,
    plot_resistance_vs_crystallinity, generate_summary_report
)

# Set plotting style
plt.style.use('seaborn-v0_8-darkgrid')
sns.set_palette("husl")

print("PCM Simulation Framework Loaded Successfully!")
print(f"Simulation started at: {datetime.now().strftime('%Y-%m-%d %H:%M:%S')}")# PCM GST Research - Complete Simulation Framework

## Phase Change Memory Device Simulation and Analysis

This notebook demonstrates the complete PCM simulation framework for Ge-Sb-Te (GST) materials, including:
- JMAK crystallization kinetics
- Electro-thermal device modeling
- SET/RESET pulse operations
- Threshold switching I-V characteristics
- Reliability analysis (retention and endurance)

---