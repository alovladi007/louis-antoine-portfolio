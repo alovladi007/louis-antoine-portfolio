{
 "cells": [
  {
   "cell_type": "markdown",
   "metadata": {},
   "source": [
    "# 193nm DUV Lithography - Baseline Analysis\n",
    "\n",
    "## Graduate Lab Project - DMAIC Phase 1: DEFINE & MEASURE\n",
    "\n",
    "This notebook performs the baseline analysis for the 193nm contact hole lithography process.\n",
    "\n",
    "**Project Goal:** Reduce stochastic bridge defects by >40% and achieve Cpk ≥ 1.67 for 90nm contact holes"
   ]
  },
  {
   "cell_type": "code",
   "execution_count": null,
   "metadata": {},
   "outputs": [],
   "source": [
    "# Import required libraries\n",
    "import numpy as np\n",
    "import pandas as pd\n",
    "import matplotlib.pyplot as plt\n",
    "import seaborn as sns\n",
    "from scipy import stats\n",
    "import warnings\n",
    "warnings.filterwarnings('ignore')\n",
    "\n",
    "print(\"Libraries imported successfully\")\n",
    "print(f\"Analysis started: {pd.Timestamp.now()}\")"
   ]
  },
  {
   "cell_type": "markdown",
   "metadata": {},
   "source": [
    "## 1. Generate Baseline Data"
   ]
  },
  {
   "cell_type": "code",
   "execution_count": null,
   "metadata": {},
   "outputs": [],
   "source": [
    "# Set random seed for reproducibility\n",
    "np.random.seed(42)\n",
    "\n",
    "# Generate baseline measurement data\n",
    "n_weeks = 4\n",
    "wafers_per_week = 3\n",
    "sites_per_wafer = 49  # 7x7 array\n",
    "contacts_per_site = 5\n",
    "\n",
    "total_measurements = n_weeks * wafers_per_week * sites_per_wafer * contacts_per_site\n",
    "print(f\"Total baseline measurements: {total_measurements}\")"
   ]
  },
  {
   "cell_type": "markdown",
   "metadata": {},
   "source": [
    "## 2. Process Capability Analysis"
   ]
  },
  {
   "cell_type": "code",
   "execution_count": null,
   "metadata": {},
   "outputs": [],
   "source": [
    "# Process capability analysis function\n",
    "def calculate_capability(data, lsl, usl, target):\n",
    "    mean_val = np.mean(data)\n",
    "    std_val = np.std(data, ddof=1)\n",
    "    \n",
    "    cp = (usl - lsl) / (6 * std_val)\n",
    "    cpu = (usl - mean_val) / (3 * std_val)\n",
    "    cpl = (mean_val - lsl) / (3 * std_val)\n",
    "    cpk = min(cpu, cpl)\n",
    "    \n",
    "    return {'mean': mean_val, 'std': std_val, 'cp': cp, 'cpk': cpk}\n",
    "\n",
    "print(\"Capability analysis functions defined\")"
   ]
  }
 ],
 "metadata": {
  "kernelspec": {
   "display_name": "Python 3",
   "language": "python",
   "name": "python3"
  },
  "language_info": {
   "codemirror_mode": {
    "name": "ipython",
    "version": 3
   },
   "file_extension": ".py",
   "mimetype": "text/x-python",
   "name": "python",
   "nbconvert_exporter": "python",
   "pygments_lexer": "ipython3",
   "version": "3.8.5"
  }
 },
 "nbformat": 4,
 "nbformat_minor": 4
}
